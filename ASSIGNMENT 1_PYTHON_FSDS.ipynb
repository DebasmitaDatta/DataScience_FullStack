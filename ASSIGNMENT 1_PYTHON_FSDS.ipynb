{
 "cells": [
  {
   "cell_type": "raw",
   "metadata": {},
   "source": [
    "1. In the below elements which of them are values or an expression? eg:- values can be integer or string and expressions will be mathematical operators.\n",
    "* \n",
    "'hello'\n",
    "-87.8\n",
    "- \n",
    "/ \n",
    "+\n",
    "6 \n",
    "\n",
    "\n",
    "Answer:1) * is an expression. It is a mathematical operator.\n",
    "       2) 'hello' is a value. It is a string.\n",
    "       3) -87.8 is a value. It is a float number.\n",
    "       4) - is a expression. It is a mathematical operator.\n",
    "       5) / is a expression. It is a mathematical operator.\n",
    "       6) + is a expression. It is a mathematical operator.\n",
    "       7) 6 is a value. It is an integer."
   ]
  },
  {
   "cell_type": "raw",
   "metadata": {},
   "source": [
    "2. What is the difference between string and variable?\n",
    "\n",
    "Answer: String is a datatype. It holds  the characters , numbers , special characters enclosed by \"\",'' or \"\"\" \"\"\". variable is a alias of a memory location of our computer, which we use to store different datatypes like integers , floats , strings , set, tuple , dict etc."
   ]
  },
  {
   "cell_type": "raw",
   "metadata": {},
   "source": [
    "3. Describe three different data types.\n",
    "\n",
    "Answers: Following are the various datatypes available in python:\n",
    "        1) Integers (int) : This datatype is used to store integer values. Indexing operation is not supported by this type of            datatype.\n",
    "        2) String (str) : This datatype is used to store characters , special characters , numbers enclosed with in ' ' , \"\" or            \"\"\" \"\"\".This are immutable kind of datatype.   \n",
    "        3) Float : This datatype is used to store fractional numbers. Indexing operation is not supported by this type of                  datatype.\n",
    "        4) list: This datatype is used to store homogenous or heterogenous data in a form of collection. it supports indexing              opperation and is mutable collection as well.\n",
    "        5) Tuple : This datatype is used to store homogenous or heterogenous data in a form of collection. It supports indexing            opperation and is immutable kind of collection.\n",
    "        6) complex : This datatype is used to store complex numbers. This type of datatype doesnot support indexing operation.\n",
    "        7) Set: This datatype holds the collection of unique elements and doesnot support indexing operation.\n",
    "        8) Dictionary (Dict) : This datatype holds the collection in the form of key value pair and supports indexing operation            with reference to the keys."
   ]
  },
  {
   "cell_type": "raw",
   "metadata": {},
   "source": [
    "4. What is an expression made up of? What do all expressions do?\n",
    "\n",
    "Answer: Expressions are made up of variables , operators , values . They can be used to describe relation between different variables and needs to be evaluated.\n",
    "\n"
   ]
  },
  {
   "cell_type": "raw",
   "metadata": {},
   "source": [
    "5. This assignment statements, like spam = 10. What is the difference between an expression and a statement?\n",
    "\n",
    "Answer : In case of assignment statement it will store the value of the variable assigned in to a specific memory address , but in case of expression it is used to define the relations between different variables and values , it wont store the value toany specific memory. like in the next question , bacon = 22 (here we are assigning the value to the variable named bacon and it will store the value 22 in to a specific memory location ) and in the next line of code bacon + 1  , here we are writting an expression to increment the value of one but we are not assigning the value any where. "
   ]
  },
  {
   "cell_type": "raw",
   "metadata": {},
   "source": [
    "6. After running the following code, what does the variable bacon contain?\n",
    "bacon = 22\n",
    "bacon + 1\n",
    "\n",
    "Answer:  bacon variable contain value equals to 22."
   ]
  },
  {
   "cell_type": "raw",
   "metadata": {},
   "source": [
    "7. What should the values of the following two terms be?\n",
    "'spam' + 'spamspam'\n",
    "'spam' * 3\n",
    "\n",
    "Answer: 'spam' + 'spamspam' gives 'spamspamspam' as  output and the output of 'spam' * 3 is 'spamspamspam' i.e both the expression is giving same output."
   ]
  },
  {
   "cell_type": "raw",
   "metadata": {},
   "source": [
    "8. Why is eggs a valid variable name while 100 is invalid?\n",
    "\n",
    "Answer: eggs is a valid variable name because it is starting with e which is a character and 100 can't be a valid variable name because it is starting with '1' which is a number. variable can be any character combined with numbers but it should not start with any number in the variable name we can use '_' as well."
   ]
  },
  {
   "cell_type": "raw",
   "metadata": {},
   "source": [
    "9. What three functions can be used to get the integer, floating-point number, or string version of a value?\n",
    "\n",
    "Answer: let the value be x and is a integer x can be converted to integer by using int(x) , to floating-point by float(x) and to string by str(x) , but if x is a string , then we cannot convert it to float or integer.\n",
    "\n",
    "for integer the function is int\n",
    "for floating point number the function is float\n",
    "for string the function is str."
   ]
  },
  {
   "cell_type": "raw",
   "metadata": {},
   "source": [
    "10. Why does this expression cause an error? How can you fix it?\n",
    "'I have eaten ' + 99 + ' burritos.'\n",
    "\n",
    "\n",
    "Answer: The output of the given code will be an error because , in python it is not possible to concatinate a string with a integer. Here 99 is a integer for removing the error we need to convert the integer 99 in to string by enclosing in to quotation.\n",
    "\n",
    "correct form will be : 'I have eaten ' + '99' + ' burritos.'\n"
   ]
  }
 ],
 "metadata": {
  "kernelspec": {
   "display_name": "Python 3",
   "language": "python",
   "name": "python3"
  },
  "language_info": {
   "codemirror_mode": {
    "name": "ipython",
    "version": 3
   },
   "file_extension": ".py",
   "mimetype": "text/x-python",
   "name": "python",
   "nbconvert_exporter": "python",
   "pygments_lexer": "ipython3",
   "version": "3.8.5"
  }
 },
 "nbformat": 4,
 "nbformat_minor": 4
}
