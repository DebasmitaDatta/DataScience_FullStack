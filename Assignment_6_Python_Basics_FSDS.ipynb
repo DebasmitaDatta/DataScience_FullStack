{
 "cells": [
  {
   "cell_type": "markdown",
   "metadata": {},
   "source": [
    "1. What are escape characters, and how do you use them?\n",
    "\n",
    "Answer: Escape sequence are sequence of characters that doesnot represent itself when used inside a character or string literal, but is translated into another character or a sequence of characters that may be difficult or impossible to represent directly.\n",
    "\n",
    "2.What do the escape characters n and t stand for?\n",
    "\n",
    "Answer: n is used for representing newline and t is used to represent a tab inside a string literal.\n"
   ]
  },
  {
   "cell_type": "markdown",
   "metadata": {},
   "source": [
    "3.What is the way to include backslash characters in a string?\n",
    "\n",
    "Answer: By using double \\\\ we can insert a single backslash in a string.\n",
    "\n",
    "    \n",
    "    Example: print('hello\\\\world')\n",
    "        \n",
    "        OUTPUT: 'hello\\world'"
   ]
  },
  {
   "cell_type": "markdown",
   "metadata": {},
   "source": [
    "4.The string \"Howl's Moving Castle\" is a correct value. Why isn't the single quote character in the word Howl's not escaped a problem?\n",
    "\n",
    "Answer: Because we have enclosed the whole string inside double quotation and inside that we can print single quotation , this will not create any error.\n"
   ]
  },
  {
   "cell_type": "markdown",
   "metadata": {},
   "source": [
    "5. How do you write a string of newlines if you don't want to use the n character?\n",
    "\n",
    "Answer: By enclosing the string into triple quotation."
   ]
  },
  {
   "cell_type": "markdown",
   "metadata": {},
   "source": [
    "\n",
    "6. What are the values of the given expressions?\n",
    "'Hello, world!'[1]\n",
    "'Hello, world!'[0:5]\n",
    "'Hello, world!'[:5]\n",
    "'Hello, world!'[3:]\n",
    "\n",
    "\n",
    "Answer:\n",
    "\n",
    "        1) 'Hello, world!'[1]      \n",
    "            OUTPUT: 'e'\n",
    "            \n",
    "        2) 'Hello, world!'[0:5]     \n",
    "            OUTPUT: 'Hello'\n",
    "            \n",
    "        3) 'Hello, world!'[:5]      \n",
    "            OUTPUT:  'Hello'\n",
    "            \n",
    "        4) 'Hello, world!'[3:]      \n",
    "            OUTPUT: 'lo, world!'"
   ]
  },
  {
   "cell_type": "markdown",
   "metadata": {},
   "source": [
    "7.What are the values of the following expressions?\n",
    "'Hello'.upper()\n",
    "'Hello'.upper().isupper()\n",
    "'Hello'.upper().lower()\n",
    "\n",
    "Answer: \n",
    "\n",
    "              1)'Hello'.upper()                                       \n",
    "                OUTPUT: 'HELLO'\n",
    "\n",
    "              2)'Hello'.upper().isupper()               \n",
    "                OUTPUT: True\n",
    "                \n",
    "             3) 'Hello'.upper().lower()                              \n",
    "                OUTPUT: 'hello'\n",
    "            \n"
   ]
  },
  {
   "cell_type": "markdown",
   "metadata": {},
   "source": [
    "\n",
    "8. What are the values of the following expressions?\n",
    "'Remember, remember, the fifth of July.'.split()\n",
    "'-'.join('There can only one.'.split())\n",
    "\n",
    "Answer: \n",
    "\n",
    "\n",
    "        1) 'Remember, remember, the fifth of July.'.split()  \n",
    "            OUTPUT: ['Remember,', 'remember,', 'the', 'fifth', 'of', 'July.']\n",
    "\n",
    "        2) '-'.join('There can only one.'.split())              \n",
    "            OUTPUT: 'There-can-only-one.'"
   ]
  },
  {
   "cell_type": "markdown",
   "metadata": {},
   "source": [
    "\n",
    "9. What are the methods for right-justifying, left-justifying, and centering a string?\n",
    "\n",
    "Answer: For Right justifying we need to use rjust function , for Centering a string we need to use centre function and to left justify we need to use ljust.\n",
    "    \n",
    "    example: \n",
    "            \n",
    "             1) 'hello world'.center(20)    \n",
    "                 OUTPUT: '    hello world     '\n",
    "                 \n",
    "             2) 'hello world'.ljust(20)     \n",
    "                 OUTPUT: 'hello world         '\n",
    "                 \n",
    "             3) 'hello world'.rjust(20)     \n",
    "                 OUTPUT: '         hello world'\n",
    "                "
   ]
  },
  {
   "cell_type": "markdown",
   "metadata": {},
   "source": [
    "10. What is the best way to remove whitespace characters from the start or end?\n",
    "\n",
    "Answer: Using strip function , we can remove the white space from the start or end.\n",
    "    \n",
    "    Example:  \n",
    "                  '  hello world '.strip(' ')      \n",
    "                   OUTPUT: 'hello world'"
   ]
  }
 ],
 "metadata": {
  "kernelspec": {
   "display_name": "Python 3",
   "language": "python",
   "name": "python3"
  },
  "language_info": {
   "codemirror_mode": {
    "name": "ipython",
    "version": 3
   },
   "file_extension": ".py",
   "mimetype": "text/x-python",
   "name": "python",
   "nbconvert_exporter": "python",
   "pygments_lexer": "ipython3",
   "version": "3.8.5"
  }
 },
 "nbformat": 4,
 "nbformat_minor": 4
}
