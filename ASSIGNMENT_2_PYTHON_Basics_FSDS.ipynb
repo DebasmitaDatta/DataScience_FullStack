{
 "cells": [
  {
   "cell_type": "markdown",
   "metadata": {},
   "source": [
    "1.What are the two values of the Boolean data type? How do you write them?\n",
    "\n",
    "Answer: Two values are 0 and 1. False = 0 and True = 1."
   ]
  },
  {
   "cell_type": "markdown",
   "metadata": {},
   "source": [
    "2. What are the three different types of Boolean operators?\n",
    "\n",
    "Answer: Three different types of boolean operators are : and , or and not."
   ]
  },
  {
   "cell_type": "markdown",
   "metadata": {},
   "source": [
    "3. Make a list of each Boolean operator's truth tables (i.e. every possible combination of Boolean values for the operator and what it evaluate ).\n",
    "\n",
    "Answer:  AND operator:\n",
    "\n",
    "         1. False and False = False\n",
    "         2. False and True = False\n",
    "         3. True and False = False\n",
    "         4. True and True = True\n",
    "         \n",
    "         OR operator:\n",
    "         \n",
    "         1. False or False = False\n",
    "         2. False or True = True\n",
    "         3. True or False = True\n",
    "         4. True or True = True\n",
    "         \n",
    "         \n",
    "         NOT Operator:\n",
    "         \n",
    "         1. not True = False\n",
    "         2. not False = True"
   ]
  },
  {
   "cell_type": "markdown",
   "metadata": {},
   "source": [
    "4. What are the values of the following expressions?\n",
    "(5 > 4) and (3 == 5)\n",
    "not (5 > 4)\n",
    "(5 > 4) or (3 == 5)\n",
    "not ((5 > 4) or (3 == 5))\n",
    "(True and True) and (True == False)\n",
    "(not False) or (not True)\n",
    "\n",
    "Answer: \n",
    "1. (5 > 4) and (3 == 5)   --> False\n",
    "2. not (5 > 4)  --> False\n",
    "3. (5 > 4) or (3 == 5)   --> True\n",
    "4. not ((5 > 4) or (3 == 5)) --> False\n",
    "5. (True and True) and (True == False)  --> False\n",
    "6. (not False) or (not True)  --> True\n"
   ]
  },
  {
   "cell_type": "markdown",
   "metadata": {},
   "source": [
    "5. What are the six comparison operators?\n",
    "\n",
    "Answer:\n",
    "1. == ( compares if equal)\n",
    "2. (>=) (compares if greater than or equal )                       \n",
    "3. <=  (compares if less than or equal)\n",
    "4. != (not equal)\n",
    "5. (>) (greater)\n",
    "6. < (lesser)\n"
   ]
  },
  {
   "cell_type": "markdown",
   "metadata": {},
   "source": [
    "7. Identify the three blocks in this code:\n",
    "\n",
    "spam = 0\n",
    "if spam == 10:\n",
    "print('eggs')\n",
    "if spam > 5:\n",
    "print('bacon')\n",
    "else:\n",
    "print('ham')\n",
    "print('spam')\n",
    "print('spam')"
   ]
  },
  {
   "cell_type": "markdown",
   "metadata": {},
   "source": [
    "Answer : In this piece of code there are few indentation error , after correcting those , it will be like :"
   ]
  },
  {
   "cell_type": "code",
   "execution_count": 16,
   "metadata": {},
   "outputs": [
    {
     "name": "stdout",
     "output_type": "stream",
     "text": [
      "eggs\n",
      "bacon\n"
     ]
    }
   ],
   "source": [
    "\n",
    "spam = 10\n",
    "\n",
    "if spam == 10:\n",
    "    print('eggs')\n",
    "if spam > 5:\n",
    "    print('bacon')\n",
    "else:\n",
    "    print('ham')\n",
    "    print('spam')\n",
    "    print('spam')\n",
    "    \n",
    "\n"
   ]
  },
  {
   "cell_type": "markdown",
   "metadata": {},
   "source": [
    " so now in this code , it has 3 blocks : two if blocks and one else block."
   ]
  },
  {
   "cell_type": "markdown",
   "metadata": {},
   "source": [
    "8. Write code that prints Hello if 1 is stored in spam, prints Howdy if 2 is stored in spam, and prints Greetings! if anything else is stored in spam."
   ]
  },
  {
   "cell_type": "code",
   "execution_count": 19,
   "metadata": {},
   "outputs": [
    {
     "name": "stdout",
     "output_type": "stream",
     "text": [
      "Enter Spam Value: 7\n",
      "greetings!\n"
     ]
    }
   ],
   "source": [
    "spam = int(input('Enter Spam Value: '))\n",
    "if spam == 1:\n",
    "    print('hello')\n",
    "elif spam == 2:\n",
    "        print('Howdy!')\n",
    "else:\n",
    "    print('greetings!')"
   ]
  }
 ],
 "metadata": {
  "kernelspec": {
   "display_name": "Python 3",
   "language": "python",
   "name": "python3"
  },
  "language_info": {
   "codemirror_mode": {
    "name": "ipython",
    "version": 3
   },
   "file_extension": ".py",
   "mimetype": "text/x-python",
   "name": "python",
   "nbconvert_exporter": "python",
   "pygments_lexer": "ipython3",
   "version": "3.8.5"
  }
 },
 "nbformat": 4,
 "nbformat_minor": 4
}
