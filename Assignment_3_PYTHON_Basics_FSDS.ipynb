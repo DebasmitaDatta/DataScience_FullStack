{
 "cells": [
  {
   "cell_type": "markdown",
   "metadata": {},
   "source": [
    "Why are functions advantageous to have in your programs?\n",
    "\n",
    "--> Definning a function in a code is advantageous for the reason that we do not have to write the same piece of code everytime , just by calling the function whenever we need , we can use the piece of code written under the function , whenever needed. \n",
    "\n"
   ]
  },
  {
   "cell_type": "markdown",
   "metadata": {},
   "source": [
    "When does the code in a function run: when it's specified or when it's called?\n",
    "\n",
    "--> when it is called , then only the code wriiten inside the function will run."
   ]
  },
  {
   "cell_type": "markdown",
   "metadata": {},
   "source": [
    "What statement creates a function?\n",
    "\n",
    "--> def is used to define or create a function."
   ]
  },
  {
   "cell_type": "markdown",
   "metadata": {},
   "source": [
    "What is the difference between a function and a function call?\n",
    "\n",
    "--> function is all about enclosing some code in to a block and giving a name to that block even we can pass arguments that can be used inside the block. \n",
    " we can use that block of code just by calling that function by it's name and passing the parameters if previously defined.\n",
    " \n",
    " we can use the function previously defined only by calling that function by it's name."
   ]
  },
  {
   "cell_type": "markdown",
   "metadata": {},
   "source": [
    "How many global scopes are there in a Python program? How many local scopes?\n",
    "\n",
    "--> There is only one global scope available in any python program. The scope of the variable declared globally will die out once the program terminates.\n",
    "\n",
    "on the other hand scope of the variable declared in local scope , suppose a variable inside a function will die out once the function terminates. Those variable can only be used inside the function. \n",
    "\n",
    "Example: \n",
    "\n",
    "a = 10\n",
    "def test():\n",
    "    b = 20\n",
    "    c = 30\n",
    "    print(a,b,c)\n",
    "\n",
    "test()\n",
    "\n",
    "output: 10 20 30\n",
    "\n",
    "Here in the above example a is a global variable that has a scope within the entire program , but in the other side b and c are having local scope inside the test() function only. Thus a can be used inside the function as well as outside the function but b and c can be used only inside the test() function."
   ]
  },
  {
   "cell_type": "markdown",
   "metadata": {},
   "source": [
    "What happens to variables in a local scope when the function call returns?\n",
    "\n",
    "--> once the function call returns , the validity of the local variable of that particual function dies out."
   ]
  },
  {
   "cell_type": "markdown",
   "metadata": {},
   "source": [
    "What is the concept of a return value? Is it possible to have a return value in an expression?\n",
    "\n",
    "--> The value that the function gives back to the user once the function is called , that value is referred as return value. yes value can be returned in the form of expression as well. Explanation with example is provided below.\n",
    "\n",
    "a = 10\n",
    "def func(b):\n",
    "  return a+b\n",
    "  \n",
    "func(20)\n",
    "\n",
    "output: 30\n",
    "\n",
    "Here when we are calling the function func() passing the value of b equal to 20 , it is returning the value of the expression as a+b i.e 10+20 which is equal to 30."
   ]
  },
  {
   "cell_type": "markdown",
   "metadata": {},
   "source": [
    "If a function does not have a return statement, what is the return value of a call to that function?\n",
    "\n",
    "--> None"
   ]
  },
  {
   "cell_type": "markdown",
   "metadata": {},
   "source": [
    "How do you make a function variable refer to the global variable?\n",
    "\n",
    "--> global keyword is used before that variable."
   ]
  },
  {
   "cell_type": "markdown",
   "metadata": {},
   "source": [
    "What is the data type of None?\n",
    "\n",
    "--> NoneType."
   ]
  }
 ],
 "metadata": {
  "kernelspec": {
   "display_name": "Python 3",
   "language": "python",
   "name": "python3"
  },
  "language_info": {
   "codemirror_mode": {
    "name": "ipython",
    "version": 3
   },
   "file_extension": ".py",
   "mimetype": "text/x-python",
   "name": "python",
   "nbconvert_exporter": "python",
   "pygments_lexer": "ipython3",
   "version": "3.8.5"
  }
 },
 "nbformat": 4,
 "nbformat_minor": 4
}
