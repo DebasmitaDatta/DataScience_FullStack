{
 "cells": [
  {
   "cell_type": "markdown",
   "metadata": {},
   "source": [
    "1. What exactly is []?\n",
    "\n",
    "Answer: It is an empty list.\n",
    "\n",
    "2. In a list of values stored in a variable called spam, how would you assign the value 'hello' as the third value? (Assume [2, 4, 6, 8, 10] are in spam.)\n",
    "\n",
    "Answer: spam[2] = 'hello'\n",
    "\n",
    "\n",
    "Let's pretend the spam includes the list ['a', 'b', 'c', 'd'] for the next three queries.\n",
    "\n",
    "3. What is the value of spam[int(int('3' * 2) / 11)]?\n",
    "\n",
    "Answer: 'd'\n",
    "\n",
    "4.What is the value of spam[-1]?\n",
    "\n",
    "Answer: 'd'\n",
    "\n",
    "5.What is the value of spam[:2]?\n",
    "\n",
    "Answer: ['a' , 'b']\n",
    "\n",
    "Let's pretend bacon has the list [3.14, 'cat,' 11, 'cat,' True] for the next three questions.\n",
    "\n",
    "6.What is the value of bacon.index('cat')?\n",
    "\n",
    "Answer: 1\n",
    "\n",
    "7.How does bacon.append(99) change the look of the list value in bacon?\n",
    "\n",
    "Answer: [3.14, 'cat', 11, 'cat', True, 99]\n",
    "\n",
    "8.How does bacon.remove('cat') change the look of the list in bacon?\n",
    "\n",
    "Answer: [3.14, 11, 'cat', True]\n",
    "\n",
    "9.What are the list concatenation and list replication operators?\n",
    "\n",
    "Answer: List concatenation operator is '+' and list replication operator is '*'.\n",
    "\n",
    "Eg: List Concatenation:\n",
    "\n",
    "l = [1,2,3,4]\n",
    "\n",
    "l+l = [1,2,3,4,1,2,3,4]\n",
    "\n",
    "List Replication:\n",
    "\n",
    "l*3\n",
    "\n",
    "[1,2,3,4,1,2,3,4,1,2,3,4]\n",
    "\n",
    "\n",
    "10. What is difference between the list methods append() and insert()?\n",
    "\n",
    "Answer: In case of append , it always add element to the last position of the list but in the other side by using insert we can define the index where we want to add the new element. insert function takes two argument one is index position and next is the element to be added. \n",
    "\n",
    "11.What are the two methods for removing items from a list?\n",
    "\n",
    "Answer: pop and remove.\n",
    "\n",
    "'pop' removes the element from last index of the list and 'remove' can remove any element from the list by passing that element as an argument to the remove function.\n",
    "\n",
    "we can use 'clear' function to remove all the elements at one go in the list.\n",
    "\n",
    "12.Describe how list values and string values are identical.\n",
    "\n",
    "Answer: Indexing operation is supported by both string values and list values."
   ]
  },
  {
   "cell_type": "code",
   "execution_count": 46,
   "metadata": {},
   "outputs": [],
   "source": [
    "s = 'riki'"
   ]
  },
  {
   "cell_type": "code",
   "execution_count": 47,
   "metadata": {},
   "outputs": [
    {
     "data": {
      "text/plain": [
       "'i'"
      ]
     },
     "execution_count": 47,
     "metadata": {},
     "output_type": "execute_result"
    }
   ],
   "source": [
    "s[3]"
   ]
  },
  {
   "cell_type": "code",
   "execution_count": null,
   "metadata": {},
   "outputs": [],
   "source": []
  }
 ],
 "metadata": {
  "kernelspec": {
   "display_name": "Python 3",
   "language": "python",
   "name": "python3"
  },
  "language_info": {
   "codemirror_mode": {
    "name": "ipython",
    "version": 3
   },
   "file_extension": ".py",
   "mimetype": "text/x-python",
   "name": "python",
   "nbconvert_exporter": "python",
   "pygments_lexer": "ipython3",
   "version": "3.8.5"
  }
 },
 "nbformat": 4,
 "nbformat_minor": 4
}
